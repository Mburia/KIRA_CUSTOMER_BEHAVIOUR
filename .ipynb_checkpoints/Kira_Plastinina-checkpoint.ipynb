{
 "cells": [
  {
   "cell_type": "markdown",
   "metadata": {},
   "source": [
    "# INDEPENDENT PROJECT: CUSTOMER BEHAVIOUR ANALYSIS"
   ]
  },
  {
   "cell_type": "markdown",
   "metadata": {},
   "source": [
    "## Problem Definition"
   ]
  },
  {
   "cell_type": "markdown",
   "metadata": {},
   "source": [
    "### a) Specifying the Data Analytic Question"
   ]
  },
  {
   "cell_type": "markdown",
   "metadata": {},
   "source": [
    "Perform analysis on data from Kira Plastinina, a Russian chain of retail stores, to help inform the team in formulating the marketing and sales strategies of the brand. "
   ]
  },
  {
   "cell_type": "markdown",
   "metadata": {},
   "source": [
    "### b) Defining the Metric for Success"
   ]
  },
  {
   "cell_type": "markdown",
   "metadata": {},
   "source": [
    "Attain a percentage accuracy that is above 80. This would be an optimum accuracy considering the data is not from a very sensitive field."
   ]
  },
  {
   "cell_type": "markdown",
   "metadata": {},
   "source": [
    "### c) Understanding the context"
   ]
  },
  {
   "cell_type": "markdown",
   "metadata": {},
   "source": [
    "Kira Plastinina, is a Russian brand that is sold through a defunct chain of retail stores in Russia, Ukraine, Kazakhstan, Belarus, China, Philippines, and Armenia. The brand’s Sales and Marketing team would like to understand their customer’s behavior from data that they have collected over the past year. More specifically, they would like to learn the characteristics of customer groups"
   ]
  },
  {
   "cell_type": "markdown",
   "metadata": {},
   "source": [
    "### d) Experimental design Taken"
   ]
  },
  {
   "cell_type": "markdown",
   "metadata": {},
   "source": [
    "True Exprimental Design"
   ]
  },
  {
   "cell_type": "markdown",
   "metadata": {},
   "source": [
    "1. Problem Definition\n",
    "2. Data Sourcing\n",
    "3. Check the Data\n",
    "4. Perform Data Cleaning\n",
    "5. Perform Exploratory Data Analysis  (Univariate, Bivariate & Multivariate)\n",
    "6. Implement the Solution"
   ]
  },
  {
   "cell_type": "markdown",
   "metadata": {},
   "source": [
    "## Libraries"
   ]
  },
  {
   "cell_type": "code",
   "execution_count": 15,
   "metadata": {},
   "outputs": [
    {
     "name": "stderr",
     "output_type": "stream",
     "text": [
      "\n",
      "Attaching package: 'dplyr'\n",
      "\n",
      "The following objects are masked from 'package:stats':\n",
      "\n",
      "    filter, lag\n",
      "\n",
      "The following objects are masked from 'package:base':\n",
      "\n",
      "    intersect, setdiff, setequal, union\n",
      "\n",
      "corrplot 0.84 loaded\n",
      "\n",
      "Attaching package: 'xgboost'\n",
      "\n",
      "The following object is masked from 'package:dplyr':\n",
      "\n",
      "    slice\n",
      "\n",
      "\n",
      "********************************************************\n",
      "Note: As of version 1.0.0, cowplot does not change the\n",
      "  default ggplot2 theme anymore. To recover the previous\n",
      "  behavior, execute:\n",
      "  theme_set(theme_cowplot())\n",
      "********************************************************\n",
      "\n",
      "Loading required package: lattice\n",
      "Loading required package: foreach\n",
      "Loading required package: iterators\n",
      "Loading required package: parallel\n"
     ]
    }
   ],
   "source": [
    "library(repr)\n",
    "\n",
    "library(readr)\n",
    "\n",
    "library(dplyr)\n",
    "\n",
    "library(corrplot)\n",
    "\n",
    "library(DataExplorer)\n",
    "\n",
    "library(xgboost)\n",
    "\n",
    "library(tidyr)\n",
    "\n",
    "library(stringr)\n",
    "\n",
    "library(rpart)\n",
    "\n",
    "library(ggplot2)\n",
    "\n",
    "library(rpart.plot)\n",
    "\n",
    "library(cowplot)\n",
    "\n",
    "library(caret)\n",
    "\n",
    "library(doParallel)"
   ]
  },
  {
   "cell_type": "markdown",
   "metadata": {},
   "source": [
    "## Reading the Data"
   ]
  },
  {
   "cell_type": "code",
   "execution_count": 16,
   "metadata": {},
   "outputs": [],
   "source": [
    "# READING THE DATA\n",
    "\n",
    "df <- read.csv(\"C:\\\\Users\\\\ned\\\\Documents\\\\TED\\\\my research data\\\\data sets\\\\online_shoppers_intention.csv\")"
   ]
  },
  {
   "cell_type": "markdown",
   "metadata": {},
   "source": [
    "## Checking the Data"
   ]
  },
  {
   "cell_type": "code",
   "execution_count": 17,
   "metadata": {},
   "outputs": [
    {
     "data": {
      "image/png": "[encoded data removed]",
      "text/plain": [
       "plot without title"
      ]
     },
     "metadata": {},
     "output_type": "display_data"
    }
   ],
   "source": [
    "# DATA INTRO\n",
    "\n",
    "plot_intro(df)"
   ]
  },
  {
   "cell_type": "markdown",
   "metadata": {},
   "source": [
    "#### TOP ROWS"
   ]
  },
  {
   "cell_type": "code",
   "execution_count": 18,
   "metadata": {},
   "outputs": [
    {
     "data": {
      "text/html": [
       "<table>\n",
       "<thead><tr><th scope=col>Administrative</th><th scope=col>Administrative_Duration</th><th scope=col>Informational</th><th scope=col>Informational_Duration</th><th scope=col>ProductRelated</th><th scope=col>ProductRelated_Duration</th><th scope=col>BounceRates</th><th scope=col>ExitRates</th><th scope=col>PageValues</th><th scope=col>SpecialDay</th><th scope=col>Month</th><th scope=col>OperatingSystems</th><th scope=col>Browser</th><th scope=col>Region</th><th scope=col>TrafficType</th><th scope=col>VisitorType</th><th scope=col>Weekend</th><th scope=col>Revenue</th></tr></thead>\n",
       "<tbody>\n",
       "\t<tr><td>0                </td><td> 0               </td><td>0                </td><td> 0               </td><td> 1               </td><td>  0.000000       </td><td>0.20000000       </td><td>0.2000000        </td><td>0                </td><td>0                </td><td>Feb              </td><td>1                </td><td>1                </td><td>1                </td><td>1                </td><td>Returning_Visitor</td><td>FALSE            </td><td>FALSE            </td></tr>\n",
       "\t<tr><td>0                </td><td> 0               </td><td>0                </td><td> 0               </td><td> 2               </td><td> 64.000000       </td><td>0.00000000       </td><td>0.1000000        </td><td>0                </td><td>0                </td><td>Feb              </td><td>2                </td><td>2                </td><td>1                </td><td>2                </td><td>Returning_Visitor</td><td>FALSE            </td><td>FALSE            </td></tr>\n",
       "\t<tr><td>0                </td><td>-1               </td><td>0                </td><td>-1               </td><td> 1               </td><td> -1.000000       </td><td>0.20000000       </td><td>0.2000000        </td><td>0                </td><td>0                </td><td>Feb              </td><td>4                </td><td>1                </td><td>9                </td><td>3                </td><td>Returning_Visitor</td><td>FALSE            </td><td>FALSE            </td></tr>\n",
       "\t<tr><td>0                </td><td> 0               </td><td>0                </td><td> 0               </td><td> 2               </td><td>  2.666667       </td><td>0.05000000       </td><td>0.1400000        </td><td>0                </td><td>0                </td><td>Feb              </td><td>3                </td><td>2                </td><td>2                </td><td>4                </td><td>Returning_Visitor</td><td>FALSE            </td><td>FALSE            </td></tr>\n",
       "\t<tr><td>0                </td><td> 0               </td><td>0                </td><td> 0               </td><td>10               </td><td>627.500000       </td><td>0.02000000       </td><td>0.0500000        </td><td>0                </td><td>0                </td><td>Feb              </td><td>3                </td><td>3                </td><td>1                </td><td>4                </td><td>Returning_Visitor</td><td> TRUE            </td><td>FALSE            </td></tr>\n",
       "\t<tr><td>0                </td><td> 0               </td><td>0                </td><td> 0               </td><td>19               </td><td>154.216667       </td><td>0.01578947       </td><td>0.0245614        </td><td>0                </td><td>0                </td><td>Feb              </td><td>2                </td><td>2                </td><td>1                </td><td>3                </td><td>Returning_Visitor</td><td>FALSE            </td><td>FALSE            </td></tr>\n",
       "</tbody>\n",
       "</table>\n"
      ],
      "text/latex": [
       "\\begin{tabular}{r|llllllllllllllllll}\n",
       " Administrative & Administrative\\_Duration & Informational & Informational\\_Duration & ProductRelated & ProductRelated\\_Duration & BounceRates & ExitRates & PageValues & SpecialDay & Month & OperatingSystems & Browser & Region & TrafficType & VisitorType & Weekend & Revenue\\\\\n",
       "\\hline\n",
       "\t 0                   &  0                  & 0                   &  0                  &  1                  &   0.000000          & 0.20000000          & 0.2000000           & 0                   & 0                   & Feb                 & 1                   & 1                   & 1                   & 1                   & Returning\\_Visitor & FALSE               & FALSE              \\\\\n",
       "\t 0                   &  0                  & 0                   &  0                  &  2                  &  64.000000          & 0.00000000          & 0.1000000           & 0                   & 0                   & Feb                 & 2                   & 2                   & 1                   & 2                   & Returning\\_Visitor & FALSE               & FALSE              \\\\\n",
       "\t 0                   & -1                  & 0                   & -1                  &  1                  &  -1.000000          & 0.20000000          & 0.2000000           & 0                   & 0                   & Feb                 & 4                   & 1                   & 9                   & 3                   & Returning\\_Visitor & FALSE               & FALSE              \\\\\n",
       "\t 0                   &  0                  & 0                   &  0                  &  2                  &   2.666667          & 0.05000000          & 0.1400000           & 0                   & 0                   & Feb                 & 3                   & 2                   & 2                   & 4                   & Returning\\_Visitor & FALSE               & FALSE              \\\\\n",
       "\t 0                   &  0                  & 0                   &  0                  & 10                  & 627.500000          & 0.02000000          & 0.0500000           & 0                   & 0                   & Feb                 & 3                   & 3                   & 1                   & 4                   & Returning\\_Visitor &  TRUE               & FALSE              \\\\\n",
       "\t 0                   &  0                  & 0                   &  0                  & 19                  & 154.216667          & 0.01578947          & 0.0245614           & 0                   & 0                   & Feb                 & 2                   & 2                   & 1                   & 3                   & Returning\\_Visitor & FALSE               & FALSE              \\\\\n",
       "\\end{tabular}\n"
      ],
      "text/markdown": [
       "\n",
       "| Administrative | Administrative_Duration | Informational | Informational_Duration | ProductRelated | ProductRelated_Duration | BounceRates | ExitRates | PageValues | SpecialDay | Month | OperatingSystems | Browser | Region | TrafficType | VisitorType | Weekend | Revenue |\n",
       "|---|---|---|---|---|---|---|---|---|---|---|---|---|---|---|---|---|---|\n",
       "| 0                 |  0                | 0                 |  0                |  1                |   0.000000        | 0.20000000        | 0.2000000         | 0                 | 0                 | Feb               | 1                 | 1                 | 1                 | 1                 | Returning_Visitor | FALSE             | FALSE             |\n",
       "| 0                 |  0                | 0                 |  0                |  2                |  64.000000        | 0.00000000        | 0.1000000         | 0                 | 0                 | Feb               | 2                 | 2                 | 1                 | 2                 | Returning_Visitor | FALSE             | FALSE             |\n",
       "| 0                 | -1                | 0                 | -1                |  1                |  -1.000000        | 0.20000000        | 0.2000000         | 0                 | 0                 | Feb               | 4                 | 1                 | 9                 | 3                 | Returning_Visitor | FALSE             | FALSE             |\n",
       "| 0                 |  0                | 0                 |  0                |  2                |   2.666667        | 0.05000000        | 0.1400000         | 0                 | 0                 | Feb               | 3                 | 2                 | 2                 | 4                 | Returning_Visitor | FALSE             | FALSE             |\n",
       "| 0                 |  0                | 0                 |  0                | 10                | 627.500000        | 0.02000000        | 0.0500000         | 0                 | 0                 | Feb               | 3                 | 3                 | 1                 | 4                 | Returning_Visitor |  TRUE             | FALSE             |\n",
       "| 0                 |  0                | 0                 |  0                | 19                | 154.216667        | 0.01578947        | 0.0245614         | 0                 | 0                 | Feb               | 2                 | 2                 | 1                 | 3                 | Returning_Visitor | FALSE             | FALSE             |\n",
       "\n"
      ],
      "text/plain": [
       "  Administrative Administrative_Duration Informational Informational_Duration\n",
       "1 0               0                      0              0                    \n",
       "2 0               0                      0              0                    \n",
       "3 0              -1                      0             -1                    \n",
       "4 0               0                      0              0                    \n",
       "5 0               0                      0              0                    \n",
       "6 0               0                      0              0                    \n",
       "  ProductRelated ProductRelated_Duration BounceRates ExitRates PageValues\n",
       "1  1               0.000000              0.20000000  0.2000000 0         \n",
       "2  2              64.000000              0.00000000  0.1000000 0         \n",
       "3  1              -1.000000              0.20000000  0.2000000 0         \n",
       "4  2               2.666667              0.05000000  0.1400000 0         \n",
       "5 10             627.500000              0.02000000  0.0500000 0         \n",
       "6 19             154.216667              0.01578947  0.0245614 0         \n",
       "  SpecialDay Month OperatingSystems Browser Region TrafficType\n",
       "1 0          Feb   1                1       1      1          \n",
       "2 0          Feb   2                2       1      2          \n",
       "3 0          Feb   4                1       9      3          \n",
       "4 0          Feb   3                2       2      4          \n",
       "5 0          Feb   3                3       1      4          \n",
       "6 0          Feb   2                2       1      3          \n",
       "  VisitorType       Weekend Revenue\n",
       "1 Returning_Visitor FALSE   FALSE  \n",
       "2 Returning_Visitor FALSE   FALSE  \n",
       "3 Returning_Visitor FALSE   FALSE  \n",
       "4 Returning_Visitor FALSE   FALSE  \n",
       "5 Returning_Visitor  TRUE   FALSE  \n",
       "6 Returning_Visitor FALSE   FALSE  "
      ]
     },
     "metadata": {},
     "output_type": "display_data"
    }
   ],
   "source": [
    "# PREVIEWING TOP OF THE DATA\n",
    "\n",
    "head(df)"
   ]
  },
  {
   "cell_type": "markdown",
   "metadata": {},
   "source": [
    "#### BOTTOM ROWS"
   ]
  },
  {
   "cell_type": "code",
   "execution_count": 19,
   "metadata": {},
   "outputs": [
    {
     "data": {
      "text/html": [
       "<table>\n",
       "<thead><tr><th></th><th scope=col>Administrative</th><th scope=col>Administrative_Duration</th><th scope=col>Informational</th><th scope=col>Informational_Duration</th><th scope=col>ProductRelated</th><th scope=col>ProductRelated_Duration</th><th scope=col>BounceRates</th><th scope=col>ExitRates</th><th scope=col>PageValues</th><th scope=col>SpecialDay</th><th scope=col>Month</th><th scope=col>OperatingSystems</th><th scope=col>Browser</th><th scope=col>Region</th><th scope=col>TrafficType</th><th scope=col>VisitorType</th><th scope=col>Weekend</th><th scope=col>Revenue</th></tr></thead>\n",
       "<tbody>\n",
       "\t<tr><th scope=row>12325</th><td>0                </td><td>  0              </td><td>1                </td><td>0                </td><td>16               </td><td> 503.000         </td><td>0.000000000      </td><td>0.03764706       </td><td> 0.00000         </td><td>0                </td><td>Nov              </td><td>2                </td><td>2                </td><td>1                </td><td> 1               </td><td>Returning_Visitor</td><td>FALSE            </td><td>FALSE            </td></tr>\n",
       "\t<tr><th scope=row>12326</th><td>3                </td><td>145              </td><td>0                </td><td>0                </td><td>53               </td><td>1783.792         </td><td>0.007142857      </td><td>0.02903061       </td><td>12.24172         </td><td>0                </td><td>Dec              </td><td>4                </td><td>6                </td><td>1                </td><td> 1               </td><td>Returning_Visitor</td><td> TRUE            </td><td>FALSE            </td></tr>\n",
       "\t<tr><th scope=row>12327</th><td>0                </td><td>  0              </td><td>0                </td><td>0                </td><td> 5               </td><td> 465.750         </td><td>0.000000000      </td><td>0.02133333       </td><td> 0.00000         </td><td>0                </td><td>Nov              </td><td>3                </td><td>2                </td><td>1                </td><td> 8               </td><td>Returning_Visitor</td><td> TRUE            </td><td>FALSE            </td></tr>\n",
       "\t<tr><th scope=row>12328</th><td>0                </td><td>  0              </td><td>0                </td><td>0                </td><td> 6               </td><td> 184.250         </td><td>0.083333333      </td><td>0.08666667       </td><td> 0.00000         </td><td>0                </td><td>Nov              </td><td>3                </td><td>2                </td><td>1                </td><td>13               </td><td>Returning_Visitor</td><td> TRUE            </td><td>FALSE            </td></tr>\n",
       "\t<tr><th scope=row>12329</th><td>4                </td><td> 75              </td><td>0                </td><td>0                </td><td>15               </td><td> 346.000         </td><td>0.000000000      </td><td>0.02105263       </td><td> 0.00000         </td><td>0                </td><td>Nov              </td><td>2                </td><td>2                </td><td>3                </td><td>11               </td><td>Returning_Visitor</td><td>FALSE            </td><td>FALSE            </td></tr>\n",
       "\t<tr><th scope=row>12330</th><td>0                </td><td>  0              </td><td>0                </td><td>0                </td><td> 3               </td><td>  21.250         </td><td>0.000000000      </td><td>0.06666667       </td><td> 0.00000         </td><td>0                </td><td>Nov              </td><td>3                </td><td>2                </td><td>1                </td><td> 2               </td><td>New_Visitor      </td><td> TRUE            </td><td>FALSE            </td></tr>\n",
       "</tbody>\n",
       "</table>\n"
      ],
      "text/latex": [
       "\\begin{tabular}{r|llllllllllllllllll}\n",
       "  & Administrative & Administrative\\_Duration & Informational & Informational\\_Duration & ProductRelated & ProductRelated\\_Duration & BounceRates & ExitRates & PageValues & SpecialDay & Month & OperatingSystems & Browser & Region & TrafficType & VisitorType & Weekend & Revenue\\\\\n",
       "\\hline\n",
       "\t12325 & 0                   &   0                 & 1                   & 0                   & 16                  &  503.000            & 0.000000000         & 0.03764706          &  0.00000            & 0                   & Nov                 & 2                   & 2                   & 1                   &  1                  & Returning\\_Visitor & FALSE               & FALSE              \\\\\n",
       "\t12326 & 3                   & 145                 & 0                   & 0                   & 53                  & 1783.792            & 0.007142857         & 0.02903061          & 12.24172            & 0                   & Dec                 & 4                   & 6                   & 1                   &  1                  & Returning\\_Visitor &  TRUE               & FALSE              \\\\\n",
       "\t12327 & 0                   &   0                 & 0                   & 0                   &  5                  &  465.750            & 0.000000000         & 0.02133333          &  0.00000            & 0                   & Nov                 & 3                   & 2                   & 1                   &  8                  & Returning\\_Visitor &  TRUE               & FALSE              \\\\\n",
       "\t12328 & 0                   &   0                 & 0                   & 0                   &  6                  &  184.250            & 0.083333333         & 0.08666667          &  0.00000            & 0                   & Nov                 & 3                   & 2                   & 1                   & 13                  & Returning\\_Visitor &  TRUE               & FALSE              \\\\\n",
       "\t12329 & 4                   &  75                 & 0                   & 0                   & 15                  &  346.000            & 0.000000000         & 0.02105263          &  0.00000            & 0                   & Nov                 & 2                   & 2                   & 3                   & 11                  & Returning\\_Visitor & FALSE               & FALSE              \\\\\n",
       "\t12330 & 0                   &   0                 & 0                   & 0                   &  3                  &   21.250            & 0.000000000         & 0.06666667          &  0.00000            & 0                   & Nov                 & 3                   & 2                   & 1                   &  2                  & New\\_Visitor       &  TRUE               & FALSE              \\\\\n",
       "\\end{tabular}\n"
      ],
      "text/markdown": [
       "\n",
       "| <!--/--> | Administrative | Administrative_Duration | Informational | Informational_Duration | ProductRelated | ProductRelated_Duration | BounceRates | ExitRates | PageValues | SpecialDay | Month | OperatingSystems | Browser | Region | TrafficType | VisitorType | Weekend | Revenue |\n",
       "|---|---|---|---|---|---|---|---|---|---|---|---|---|---|---|---|---|---|---|\n",
       "| 12325 | 0                 |   0               | 1                 | 0                 | 16                |  503.000          | 0.000000000       | 0.03764706        |  0.00000          | 0                 | Nov               | 2                 | 2                 | 1                 |  1                | Returning_Visitor | FALSE             | FALSE             |\n",
       "| 12326 | 3                 | 145               | 0                 | 0                 | 53                | 1783.792          | 0.007142857       | 0.02903061        | 12.24172          | 0                 | Dec               | 4                 | 6                 | 1                 |  1                | Returning_Visitor |  TRUE             | FALSE             |\n",
       "| 12327 | 0                 |   0               | 0                 | 0                 |  5                |  465.750          | 0.000000000       | 0.02133333        |  0.00000          | 0                 | Nov               | 3                 | 2                 | 1                 |  8                | Returning_Visitor |  TRUE             | FALSE             |\n",
       "| 12328 | 0                 |   0               | 0                 | 0                 |  6                |  184.250          | 0.083333333       | 0.08666667        |  0.00000          | 0                 | Nov               | 3                 | 2                 | 1                 | 13                | Returning_Visitor |  TRUE             | FALSE             |\n",
       "| 12329 | 4                 |  75               | 0                 | 0                 | 15                |  346.000          | 0.000000000       | 0.02105263        |  0.00000          | 0                 | Nov               | 2                 | 2                 | 3                 | 11                | Returning_Visitor | FALSE             | FALSE             |\n",
       "| 12330 | 0                 |   0               | 0                 | 0                 |  3                |   21.250          | 0.000000000       | 0.06666667        |  0.00000          | 0                 | Nov               | 3                 | 2                 | 1                 |  2                | New_Visitor       |  TRUE             | FALSE             |\n",
       "\n"
      ],
      "text/plain": [
       "      Administrative Administrative_Duration Informational\n",
       "12325 0                0                     1            \n",
       "12326 3              145                     0            \n",
       "12327 0                0                     0            \n",
       "12328 0                0                     0            \n",
       "12329 4               75                     0            \n",
       "12330 0                0                     0            \n",
       "      Informational_Duration ProductRelated ProductRelated_Duration BounceRates\n",
       "12325 0                      16              503.000                0.000000000\n",
       "12326 0                      53             1783.792                0.007142857\n",
       "12327 0                       5              465.750                0.000000000\n",
       "12328 0                       6              184.250                0.083333333\n",
       "12329 0                      15              346.000                0.000000000\n",
       "12330 0                       3               21.250                0.000000000\n",
       "      ExitRates  PageValues SpecialDay Month OperatingSystems Browser Region\n",
       "12325 0.03764706  0.00000   0          Nov   2                2       1     \n",
       "12326 0.02903061 12.24172   0          Dec   4                6       1     \n",
       "12327 0.02133333  0.00000   0          Nov   3                2       1     \n",
       "12328 0.08666667  0.00000   0          Nov   3                2       1     \n",
       "12329 0.02105263  0.00000   0          Nov   2                2       3     \n",
       "12330 0.06666667  0.00000   0          Nov   3                2       1     \n",
       "      TrafficType VisitorType       Weekend Revenue\n",
       "12325  1          Returning_Visitor FALSE   FALSE  \n",
       "12326  1          Returning_Visitor  TRUE   FALSE  \n",
       "12327  8          Returning_Visitor  TRUE   FALSE  \n",
       "12328 13          Returning_Visitor  TRUE   FALSE  \n",
       "12329 11          Returning_Visitor FALSE   FALSE  \n",
       "12330  2          New_Visitor        TRUE   FALSE  "
      ]
     },
     "metadata": {},
     "output_type": "display_data"
    }
   ],
   "source": [
    "# PREVIEWING BOTTOM OF THE DATA\n",
    "\n",
    "tail(df)"
   ]
  },
  {
   "cell_type": "markdown",
   "metadata": {},
   "source": [
    "#### UNIQUE VALUES"
   ]
  },
  {
   "cell_type": "code",
   "execution_count": 20,
   "metadata": {},
   "outputs": [
    {
     "data": {
      "text/html": [
       "<dl class=dl-horizontal>\n",
       "\t<dt>Administrative</dt>\n",
       "\t\t<dd>28</dd>\n",
       "\t<dt>Administrative_Duration</dt>\n",
       "\t\t<dd>3337</dd>\n",
       "\t<dt>Informational</dt>\n",
       "\t\t<dd>18</dd>\n",
       "\t<dt>Informational_Duration</dt>\n",
       "\t\t<dd>1260</dd>\n",
       "\t<dt>ProductRelated</dt>\n",
       "\t\t<dd>312</dd>\n",
       "\t<dt>ProductRelated_Duration</dt>\n",
       "\t\t<dd>9553</dd>\n",
       "\t<dt>BounceRates</dt>\n",
       "\t\t<dd>1873</dd>\n",
       "\t<dt>ExitRates</dt>\n",
       "\t\t<dd>4778</dd>\n",
       "\t<dt>PageValues</dt>\n",
       "\t\t<dd>2704</dd>\n",
       "\t<dt>SpecialDay</dt>\n",
       "\t\t<dd>6</dd>\n",
       "\t<dt>Month</dt>\n",
       "\t\t<dd>10</dd>\n",
       "\t<dt>OperatingSystems</dt>\n",
       "\t\t<dd>8</dd>\n",
       "\t<dt>Browser</dt>\n",
       "\t\t<dd>13</dd>\n",
       "\t<dt>Region</dt>\n",
       "\t\t<dd>9</dd>\n",
       "\t<dt>TrafficType</dt>\n",
       "\t\t<dd>20</dd>\n",
       "\t<dt>VisitorType</dt>\n",
       "\t\t<dd>3</dd>\n",
       "\t<dt>Weekend</dt>\n",
       "\t\t<dd>2</dd>\n",
       "\t<dt>Revenue</dt>\n",
       "\t\t<dd>2</dd>\n",
       "</dl>\n"
      ],
      "text/latex": [
       "\\begin{description*}\n",
       "\\item[Administrative] 28\n",
       "\\item[Administrative\\textbackslash{}\\_Duration] 3337\n",
       "\\item[Informational] 18\n",
       "\\item[Informational\\textbackslash{}\\_Duration] 1260\n",
       "\\item[ProductRelated] 312\n",
       "\\item[ProductRelated\\textbackslash{}\\_Duration] 9553\n",
       "\\item[BounceRates] 1873\n",
       "\\item[ExitRates] 4778\n",
       "\\item[PageValues] 2704\n",
       "\\item[SpecialDay] 6\n",
       "\\item[Month] 10\n",
       "\\item[OperatingSystems] 8\n",
       "\\item[Browser] 13\n",
       "\\item[Region] 9\n",
       "\\item[TrafficType] 20\n",
       "\\item[VisitorType] 3\n",
       "\\item[Weekend] 2\n",
       "\\item[Revenue] 2\n",
       "\\end{description*}\n"
      ],
      "text/markdown": [
       "Administrative\n",
       ":   28Administrative_Duration\n",
       ":   3337Informational\n",
       ":   18Informational_Duration\n",
       ":   1260ProductRelated\n",
       ":   312ProductRelated_Duration\n",
       ":   9553BounceRates\n",
       ":   1873ExitRates\n",
       ":   4778PageValues\n",
       ":   2704SpecialDay\n",
       ":   6Month\n",
       ":   10OperatingSystems\n",
       ":   8Browser\n",
       ":   13Region\n",
       ":   9TrafficType\n",
       ":   20VisitorType\n",
       ":   3Weekend\n",
       ":   2Revenue\n",
       ":   2\n",
       "\n"
      ],
      "text/plain": [
       "         Administrative Administrative_Duration           Informational \n",
       "                     28                    3337                      18 \n",
       " Informational_Duration          ProductRelated ProductRelated_Duration \n",
       "                   1260                     312                    9553 \n",
       "            BounceRates               ExitRates              PageValues \n",
       "                   1873                    4778                    2704 \n",
       "             SpecialDay                   Month        OperatingSystems \n",
       "                      6                      10                       8 \n",
       "                Browser                  Region             TrafficType \n",
       "                     13                       9                      20 \n",
       "            VisitorType                 Weekend                 Revenue \n",
       "                      3                       2                       2 "
      ]
     },
     "metadata": {},
     "output_type": "display_data"
    }
   ],
   "source": [
    "# NUMBER OF UNIQUE VALUES IN THE DATA\n",
    "\n",
    "sapply(df, function(x) length(unique(x)))"
   ]
  },
  {
   "cell_type": "markdown",
   "metadata": {},
   "source": [
    "#### DATA SIZE"
   ]
  },
  {
   "cell_type": "code",
   "execution_count": 21,
   "metadata": {},
   "outputs": [
    {
     "name": "stdout",
     "output_type": "stream",
     "text": [
      "Observations: 12,330\n",
      "Variables: 18\n",
      "$ Administrative          <int> 0, 0, 0, 0, 0, 0, 0, 1, 0, 0, 0, 0, 0, 0, 0...\n",
      "$ Administrative_Duration <dbl> 0, 0, -1, 0, 0, 0, -1, -1, 0, 0, 0, 0, 0, 0...\n",
      "$ Informational           <int> 0, 0, 0, 0, 0, 0, 0, 0, 0, 0, 0, 0, 0, 0, 0...\n",
      "$ Informational_Duration  <dbl> 0, 0, -1, 0, 0, 0, -1, -1, 0, 0, 0, 0, 0, 0...\n",
      "$ ProductRelated          <int> 1, 2, 1, 2, 10, 19, 1, 1, 2, 3, 3, 16, 7, 6...\n",
      "$ ProductRelated_Duration <dbl> 0.000000, 64.000000, -1.000000, 2.666667, 6...\n",
      "$ BounceRates             <dbl> 0.200000000, 0.000000000, 0.200000000, 0.05...\n",
      "$ ExitRates               <dbl> 0.200000000, 0.100000000, 0.200000000, 0.14...\n",
      "$ PageValues              <dbl> 0, 0, 0, 0, 0, 0, 0, 0, 0, 0, 0, 0, 0, 0, 0...\n",
      "$ SpecialDay              <dbl> 0.0, 0.0, 0.0, 0.0, 0.0, 0.0, 0.4, 0.0, 0.8...\n",
      "$ Month                   <fct> Feb, Feb, Feb, Feb, Feb, Feb, Feb, Feb, Feb...\n",
      "$ OperatingSystems        <int> 1, 2, 4, 3, 3, 2, 2, 1, 2, 2, 1, 1, 1, 2, 3...\n",
      "$ Browser                 <int> 1, 2, 1, 2, 3, 2, 4, 2, 2, 4, 1, 1, 1, 5, 2...\n",
      "$ Region                  <int> 1, 1, 9, 2, 1, 1, 3, 1, 2, 1, 3, 4, 1, 1, 3...\n",
      "$ TrafficType             <int> 1, 2, 3, 4, 4, 3, 3, 5, 3, 2, 3, 3, 3, 3, 3...\n",
      "$ VisitorType             <fct> Returning_Visitor, Returning_Visitor, Retur...\n",
      "$ Weekend                 <lgl> FALSE, FALSE, FALSE, FALSE, TRUE, FALSE, FA...\n",
      "$ Revenue                 <lgl> FALSE, FALSE, FALSE, FALSE, FALSE, FALSE, F...\n"
     ]
    }
   ],
   "source": [
    "glimpse(df)"
   ]
  },
  {
   "cell_type": "markdown",
   "metadata": {},
   "source": [
    "#### VARIABLE TYPES"
   ]
  },
  {
   "cell_type": "code",
   "execution_count": 23,
   "metadata": {},
   "outputs": [
    {
     "data": {
      "text/html": [
       "<dl class=dl-horizontal>\n",
       "\t<dt>Administrative</dt>\n",
       "\t\t<dd>'integer'</dd>\n",
       "\t<dt>Administrative_Duration</dt>\n",
       "\t\t<dd>'numeric'</dd>\n",
       "\t<dt>Informational</dt>\n",
       "\t\t<dd>'integer'</dd>\n",
       "\t<dt>Informational_Duration</dt>\n",
       "\t\t<dd>'numeric'</dd>\n",
       "\t<dt>ProductRelated</dt>\n",
       "\t\t<dd>'integer'</dd>\n",
       "\t<dt>ProductRelated_Duration</dt>\n",
       "\t\t<dd>'numeric'</dd>\n",
       "\t<dt>BounceRates</dt>\n",
       "\t\t<dd>'numeric'</dd>\n",
       "\t<dt>ExitRates</dt>\n",
       "\t\t<dd>'numeric'</dd>\n",
       "\t<dt>PageValues</dt>\n",
       "\t\t<dd>'numeric'</dd>\n",
       "\t<dt>SpecialDay</dt>\n",
       "\t\t<dd>'numeric'</dd>\n",
       "\t<dt>Month</dt>\n",
       "\t\t<dd>'factor'</dd>\n",
       "\t<dt>OperatingSystems</dt>\n",
       "\t\t<dd>'integer'</dd>\n",
       "\t<dt>Browser</dt>\n",
       "\t\t<dd>'integer'</dd>\n",
       "\t<dt>Region</dt>\n",
       "\t\t<dd>'integer'</dd>\n",
       "\t<dt>TrafficType</dt>\n",
       "\t\t<dd>'integer'</dd>\n",
       "\t<dt>VisitorType</dt>\n",
       "\t\t<dd>'factor'</dd>\n",
       "\t<dt>Weekend</dt>\n",
       "\t\t<dd>'logical'</dd>\n",
       "\t<dt>Revenue</dt>\n",
       "\t\t<dd>'logical'</dd>\n",
       "</dl>\n"
      ],
      "text/latex": [
       "\\begin{description*}\n",
       "\\item[Administrative] 'integer'\n",
       "\\item[Administrative\\textbackslash{}\\_Duration] 'numeric'\n",
       "\\item[Informational] 'integer'\n",
       "\\item[Informational\\textbackslash{}\\_Duration] 'numeric'\n",
       "\\item[ProductRelated] 'integer'\n",
       "\\item[ProductRelated\\textbackslash{}\\_Duration] 'numeric'\n",
       "\\item[BounceRates] 'numeric'\n",
       "\\item[ExitRates] 'numeric'\n",
       "\\item[PageValues] 'numeric'\n",
       "\\item[SpecialDay] 'numeric'\n",
       "\\item[Month] 'factor'\n",
       "\\item[OperatingSystems] 'integer'\n",
       "\\item[Browser] 'integer'\n",
       "\\item[Region] 'integer'\n",
       "\\item[TrafficType] 'integer'\n",
       "\\item[VisitorType] 'factor'\n",
       "\\item[Weekend] 'logical'\n",
       "\\item[Revenue] 'logical'\n",
       "\\end{description*}\n"
      ],
      "text/markdown": [
       "Administrative\n",
       ":   'integer'Administrative_Duration\n",
       ":   'numeric'Informational\n",
       ":   'integer'Informational_Duration\n",
       ":   'numeric'ProductRelated\n",
       ":   'integer'ProductRelated_Duration\n",
       ":   'numeric'BounceRates\n",
       ":   'numeric'ExitRates\n",
       ":   'numeric'PageValues\n",
       ":   'numeric'SpecialDay\n",
       ":   'numeric'Month\n",
       ":   'factor'OperatingSystems\n",
       ":   'integer'Browser\n",
       ":   'integer'Region\n",
       ":   'integer'TrafficType\n",
       ":   'integer'VisitorType\n",
       ":   'factor'Weekend\n",
       ":   'logical'Revenue\n",
       ":   'logical'\n",
       "\n"
      ],
      "text/plain": [
       "         Administrative Administrative_Duration           Informational \n",
       "              \"integer\"               \"numeric\"               \"integer\" \n",
       " Informational_Duration          ProductRelated ProductRelated_Duration \n",
       "              \"numeric\"               \"integer\"               \"numeric\" \n",
       "            BounceRates               ExitRates              PageValues \n",
       "              \"numeric\"               \"numeric\"               \"numeric\" \n",
       "             SpecialDay                   Month        OperatingSystems \n",
       "              \"numeric\"                \"factor\"               \"integer\" \n",
       "                Browser                  Region             TrafficType \n",
       "              \"integer\"               \"integer\"               \"integer\" \n",
       "            VisitorType                 Weekend                 Revenue \n",
       "               \"factor\"               \"logical\"               \"logical\" "
      ]
     },
     "metadata": {},
     "output_type": "display_data"
    }
   ],
   "source": [
    "#Checking the data type of each column\n",
    "sapply(df, class)"
   ]
  },
  {
   "cell_type": "markdown",
   "metadata": {},
   "source": [
    "#### FEATURE DENSITY"
   ]
  },
  {
   "cell_type": "code",
   "execution_count": 24,
   "metadata": {},
   "outputs": [
    {
     "data": {
      "image/png": "[encoded data removed]",
      "text/plain": [
       "plot without title"
      ]
     },
     "metadata": {},
     "output_type": "display_data"
    }
   ],
   "source": [
    "plot_density(df)"
   ]
  },
  {
   "cell_type": "markdown",
   "metadata": {},
   "source": [
    "#### FEATURE REPORT"
   ]
  },
  {
   "cell_type": "code",
   "execution_count": 25,
   "metadata": {},
   "outputs": [
    {
     "name": "stderr",
     "output_type": "stream",
     "text": [
      "\n",
      "\n",
      "processing file: report.rmd\n"
     ]
    },
    {
     "name": "stdout",
     "output_type": "stream",
     "text": [
      "  |..                                                               |   2%\n",
      "   inline R code fragments\n",
      "\n",
      "  |...                                                              |   5%\n",
      "label: global_options (with options) \n",
      "List of 1\n",
      " $ include: logi FALSE\n",
      "\n",
      "  |.....                                                            |   7%\n",
      "  ordinary text without R code\n",
      "\n",
      "  |......                                                           |  10%\n",
      "label: introduce\n",
      "  |........                                                         |  12%\n",
      "  ordinary text without R code\n",
      "\n",
      "  |.........                                                        |  14%\n",
      "label: plot_intro\n",
      "  |...........                                                      |  17%\n",
      "  ordinary text without R code\n",
      "\n",
      "  |............                                                     |  19%\n",
      "label: data_structure\n",
      "  |..............                                                   |  21%\n",
      "  ordinary text without R code\n",
      "\n",
      "  |...............                                                  |  24%\n",
      "label: missing_profile\n",
      "  |.................                                                |  26%\n",
      "  ordinary text without R code\n",
      "\n",
      "  |...................                                              |  29%\n",
      "label: univariate_distribution_header\n",
      "  |....................                                             |  31%\n",
      "  ordinary text without R code\n",
      "\n",
      "  |......................                                           |  33%\n",
      "label: plot_histogram\n",
      "  |.......................                                          |  36%\n",
      "  ordinary text without R code\n",
      "\n",
      "  |.........................                                        |  38%\n",
      "label: plot_density\n",
      "  |..........................                                       |  40%\n",
      "  ordinary text without R code\n",
      "\n",
      "  |............................                                     |  43%\n",
      "label: plot_frequency_bar\n",
      "  |.............................                                    |  45%\n",
      "  ordinary text without R code\n",
      "\n",
      "  |...............................                                  |  48%\n",
      "label: plot_response_bar\n",
      "  |................................                                 |  50%\n",
      "  ordinary text without R code\n",
      "\n",
      "  |..................................                               |  52%\n",
      "label: plot_with_bar\n",
      "  |....................................                             |  55%\n",
      "  ordinary text without R code\n",
      "\n",
      "  |.....................................                            |  57%\n",
      "label: plot_normal_qq\n",
      "  |.......................................                          |  60%\n",
      "  ordinary text without R code\n",
      "\n",
      "  |........................................                         |  62%\n",
      "label: plot_response_qq\n",
      "  |..........................................                       |  64%\n",
      "  ordinary text without R code\n",
      "\n",
      "  |...........................................                      |  67%\n",
      "label: plot_by_qq\n",
      "  |.............................................                    |  69%\n",
      "  ordinary text without R code\n",
      "\n",
      "  |..............................................                   |  71%\n",
      "label: correlation_analysis\n",
      "  |................................................                 |  74%\n",
      "  ordinary text without R code\n",
      "\n",
      "  |..................................................               |  76%\n",
      "label: principal_component_analysis\n",
      "  |...................................................              |  79%\n",
      "  ordinary text without R code\n",
      "\n",
      "  |.....................................................            |  81%\n",
      "label: bivariate_distribution_header\n",
      "  |......................................................           |  83%\n",
      "  ordinary text without R code\n",
      "\n",
      "  |........................................................         |  86%\n",
      "label: plot_response_boxplot\n",
      "  |.........................................................        |  88%\n",
      "  ordinary text without R code\n",
      "\n",
      "  |...........................................................      |  90%\n",
      "label: plot_by_boxplot\n",
      "  |............................................................     |  93%\n",
      "  ordinary text without R code\n",
      "\n",
      "  |..............................................................   |  95%\n",
      "label: plot_response_scatterplot\n",
      "  |...............................................................  |  98%\n",
      "  ordinary text without R code\n",
      "\n",
      "  |.................................................................| 100%\n",
      "label: plot_by_scatterplot\n",
      "\n"
     ]
    },
    {
     "name": "stderr",
     "output_type": "stream",
     "text": [
      "output file: C:/Users/ned/Documents/TED/my research data/R Programming Language/report.knit.md\n",
      "\n"
     ]
    },
    {
     "name": "stdout",
     "output_type": "stream",
     "text": [
      "\"C:/Users/ned/ANACON~1/Scripts/pandoc\" +RTS -K512m -RTS \"C:/Users/ned/Documents/TED/my research data/R Programming Language/report.utf8.md\" --to html4 --from markdown+autolink_bare_uris+tex_math_single_backslash+smart --output pandoc2bdc581f1a00.html --email-obfuscation none --self-contained --standalone --section-divs --table-of-contents --toc-depth 6 --template \"C:\\Users\\ned\\Documents\\R\\win-library\\3.6\\rmarkdown\\rmd\\h\\default.html\" --no-highlight --variable highlightjs=1 --variable \"theme:yeti\" --include-in-header \"C:\\Users\\ned\\AppData\\Local\\Temp\\RtmpqSH2fu\\rmarkdown-str2bdc2e7f1537.html\" --mathjax --variable \"mathjax-url:https://mathjax.rstudio.com/latest/MathJax.js?config=TeX-AMS-MML_HTMLorMML\" --lua-filter \"C:/Users/ned/Documents/R/win-library/3.6/rmarkdown/rmd/lua/pagebreak.lua\" --lua-filter \"C:/Users/ned/Documents/R/win-library/3.6/rmarkdown/rmd/lua/latex-div.lua\" \n"
     ]
    },
    {
     "name": "stderr",
     "output_type": "stream",
     "text": [
      "\n",
      "Output created: report.html\n",
      "\n",
      "\n",
      "Report is generated at \"C:/Users/ned/Documents/TED/my research data/R Programming Language/report.html\".\n"
     ]
    }
   ],
   "source": [
    "create_report(df)"
   ]
  },
  {
   "cell_type": "markdown",
   "metadata": {},
   "source": [
    "## Data Cleaning"
   ]
  },
  {
   "cell_type": "code",
   "execution_count": 28,
   "metadata": {},
   "outputs": [],
   "source": [
    "categorical_cols = select_if(df, is.factor)\n",
    "numeric_cols = select_if(df, is.numeric)"
   ]
  },
  {
   "cell_type": "markdown",
   "metadata": {},
   "source": [
    "#### OUTLIERS"
   ]
  },
  {
   "cell_type": "code",
   "execution_count": 26,
   "metadata": {},
   "outputs": [],
   "source": [
    "# FUNCTION THAT ENABLES US TO DETERMINE OUTLIERS IN THE DATASET  \n",
    "\n",
    "\"outlier\" <-\n",
    "function (x, opposite = FALSE, logical = FALSE) \n",
    "{\n",
    "    if (is.matrix(x)) \n",
    "        apply(x, 2, outlier, opposite = opposite, logical = logical)\n",
    "    else if (is.data.frame(x)) \n",
    "        sapply(x, outlier, opposite = opposite, logical = logical)\n",
    "    else {\n",
    "\tif (xor(((max(x,na.rm=TRUE) - mean(x,na.rm=TRUE)) < (mean(x,na.rm=TRUE) - min(x,na.rm=TRUE))),opposite)) \n",
    "\t\t{\n",
    "\t\t\tif (!logical) min(x,na.rm=TRUE)\n",
    "\t\t\telse x == min(x,na.rm=TRUE)\n",
    "\t\t}\n",
    "\t\telse \n",
    "\t\t{\n",
    "\t\t\tif (!logical) max(x,na.rm=TRUE)\n",
    "\t\t\telse x == max(x,na.rm=TRUE)\n",
    "\t\t}\n",
    "\t} \n",
    "}\n"
   ]
  },
  {
   "cell_type": "code",
   "execution_count": 30,
   "metadata": {},
   "outputs": [
    {
     "data": {
      "text/html": [
       "<dl class=dl-horizontal>\n",
       "\t<dt>Administrative</dt>\n",
       "\t\t<dd>27</dd>\n",
       "\t<dt>Administrative_Duration</dt>\n",
       "\t\t<dd>3398.75</dd>\n",
       "\t<dt>Informational</dt>\n",
       "\t\t<dd>24</dd>\n",
       "\t<dt>Informational_Duration</dt>\n",
       "\t\t<dd>2549.375</dd>\n",
       "\t<dt>ProductRelated</dt>\n",
       "\t\t<dd>705</dd>\n",
       "\t<dt>ProductRelated_Duration</dt>\n",
       "\t\t<dd>63973.52223</dd>\n",
       "\t<dt>BounceRates</dt>\n",
       "\t\t<dd>0.2</dd>\n",
       "\t<dt>ExitRates</dt>\n",
       "\t\t<dd>0.2</dd>\n",
       "\t<dt>PageValues</dt>\n",
       "\t\t<dd>361.7637419</dd>\n",
       "\t<dt>SpecialDay</dt>\n",
       "\t\t<dd>1</dd>\n",
       "\t<dt>OperatingSystems</dt>\n",
       "\t\t<dd>8</dd>\n",
       "\t<dt>Browser</dt>\n",
       "\t\t<dd>13</dd>\n",
       "\t<dt>Region</dt>\n",
       "\t\t<dd>9</dd>\n",
       "\t<dt>TrafficType</dt>\n",
       "\t\t<dd>20</dd>\n",
       "</dl>\n"
      ],
      "text/latex": [
       "\\begin{description*}\n",
       "\\item[Administrative] 27\n",
       "\\item[Administrative\\textbackslash{}\\_Duration] 3398.75\n",
       "\\item[Informational] 24\n",
       "\\item[Informational\\textbackslash{}\\_Duration] 2549.375\n",
       "\\item[ProductRelated] 705\n",
       "\\item[ProductRelated\\textbackslash{}\\_Duration] 63973.52223\n",
       "\\item[BounceRates] 0.2\n",
       "\\item[ExitRates] 0.2\n",
       "\\item[PageValues] 361.7637419\n",
       "\\item[SpecialDay] 1\n",
       "\\item[OperatingSystems] 8\n",
       "\\item[Browser] 13\n",
       "\\item[Region] 9\n",
       "\\item[TrafficType] 20\n",
       "\\end{description*}\n"
      ],
      "text/markdown": [
       "Administrative\n",
       ":   27Administrative_Duration\n",
       ":   3398.75Informational\n",
       ":   24Informational_Duration\n",
       ":   2549.375ProductRelated\n",
       ":   705ProductRelated_Duration\n",
       ":   63973.52223BounceRates\n",
       ":   0.2ExitRates\n",
       ":   0.2PageValues\n",
       ":   361.7637419SpecialDay\n",
       ":   1OperatingSystems\n",
       ":   8Browser\n",
       ":   13Region\n",
       ":   9TrafficType\n",
       ":   20\n",
       "\n"
      ],
      "text/plain": [
       "         Administrative Administrative_Duration           Informational \n",
       "                27.0000               3398.7500                 24.0000 \n",
       " Informational_Duration          ProductRelated ProductRelated_Duration \n",
       "              2549.3750                705.0000              63973.5222 \n",
       "            BounceRates               ExitRates              PageValues \n",
       "                 0.2000                  0.2000                361.7637 \n",
       "             SpecialDay        OperatingSystems                 Browser \n",
       "                 1.0000                  8.0000                 13.0000 \n",
       "                 Region             TrafficType \n",
       "                 9.0000                 20.0000 "
      ]
     },
     "metadata": {},
     "output_type": "display_data"
    }
   ],
   "source": [
    "# OUTLIERS IN OUR DATASET\n",
    "\n",
    "outlier(numeric_cols)"
   ]
  },
  {
   "cell_type": "markdown",
   "metadata": {},
   "source": [
    "#### ANOMALIES"
   ]
  },
  {
   "cell_type": "markdown",
   "metadata": {},
   "source": [
    "#### MISSING VALUES"
   ]
  },
  {
   "cell_type": "code",
   "execution_count": 34,
   "metadata": {},
   "outputs": [
    {
     "data": {
      "image/png": "[encoded data removed]",
      "text/plain": [
       "plot without title"
      ]
     },
     "metadata": {},
     "output_type": "display_data"
    }
   ],
   "source": [
    "plot_missing(df)"
   ]
  },
  {
   "cell_type": "markdown",
   "metadata": {},
   "source": [
    "## Exploratory Data Analysis"
   ]
  },
  {
   "cell_type": "markdown",
   "metadata": {},
   "source": [
    "#### VARIABLE IMPORTANCE"
   ]
  },
  {
   "cell_type": "code",
   "execution_count": 36,
   "metadata": {},
   "outputs": [
    {
     "name": "stdout",
     "output_type": "stream",
     "text": [
      "\n",
      "Classification tree:\n",
      "rpart(formula = Revenue ~ ., data = df, method = \"class\")\n",
      "\n",
      "Variables actually used in tree construction:\n",
      "[1] Administrative BounceRates    Month          PageValues    \n",
      "\n",
      "Root node error: 1908/12330 = 0.15474\n",
      "\n",
      "n= 12330 \n",
      "\n",
      "        CP nsplit rel error  xerror     xstd\n",
      "1 0.197065      0   1.00000 1.00000 0.021048\n",
      "2 0.095388      1   0.80294 0.80975 0.019267\n",
      "3 0.059224      2   0.70755 0.71226 0.018225\n",
      "4 0.012579      3   0.64832 0.66300 0.017659\n",
      "5 0.010000      5   0.62317 0.64990 0.017503\n",
      "Call:\n",
      "rpart(formula = Revenue ~ ., data = df, method = \"class\")\n",
      "  n= 12330 \n",
      "\n",
      "          CP nsplit rel error    xerror       xstd\n",
      "1 0.19706499      0 1.0000000 1.0000000 0.02104771\n",
      "2 0.09538784      1 0.8029350 0.8097484 0.01926701\n",
      "3 0.05922432      2 0.7075472 0.7122642 0.01822523\n",
      "4 0.01257862      3 0.6483229 0.6629979 0.01765879\n",
      "5 0.01000000      5 0.6231656 0.6498952 0.01750317\n",
      "\n",
      "Variable importance\n",
      "             PageValues             BounceRates          Administrative \n",
      "                     74                       7                       4 \n",
      "         ProductRelated                   Month ProductRelated_Duration \n",
      "                      3                       3                       3 \n",
      "              ExitRates             VisitorType Administrative_Duration \n",
      "                      2                       2                       1 \n",
      " Informational_Duration \n",
      "                      1 \n",
      "\n",
      "Node number 1: 12330 observations,    complexity param=0.197065\n",
      "  predicted class=FALSE  expected loss=0.1547445  P(node) =1\n",
      "    class counts: 10422  1908\n",
      "   probabilities: 0.845 0.155 \n",
      "  left son=2 (9662 obs) right son=3 (2668 obs)\n",
      "  Primary splits:\n",
      "      PageValues              < 0.9448195   to the left,  improve=1176.83100, (0 missing)\n",
      "      ExitRates               < 0.02862078  to the right, improve= 170.69410, (14 missing)\n",
      "      ProductRelated_Duration < 487.1605    to the left,  improve= 129.80760, (14 missing)\n",
      "      BounceRates             < 0.0146385   to the right, improve=  97.67237, (14 missing)\n",
      "      ProductRelated          < 12.5        to the left,  improve=  97.45632, (14 missing)\n",
      "  Surrogate splits:\n",
      "      Administrative         < 8.5         to the left,  agree=0.790, adj=0.031, (0 split)\n",
      "      Informational_Duration < 312.875     to the left,  agree=0.785, adj=0.005, (0 split)\n",
      "      ProductRelated         < 110.5       to the left,  agree=0.785, adj=0.005, (0 split)\n",
      "\n",
      "Node number 2: 9662 observations\n",
      "  predicted class=FALSE  expected loss=0.03995032  P(node) =0.7836172\n",
      "    class counts:  9276   386\n",
      "   probabilities: 0.960 0.040 \n",
      "\n",
      "Node number 3: 2668 observations,    complexity param=0.09538784\n",
      "  predicted class=TRUE   expected loss=0.4295352  P(node) =0.2163828\n",
      "    class counts:  1146  1522\n",
      "   probabilities: 0.430 0.570 \n",
      "  left son=6 (1480 obs) right son=7 (1188 obs)\n",
      "  Primary splits:\n",
      "      BounceRates             < 8.11e-05    to the right, improve=115.74120, (0 missing)\n",
      "      PageValues              < 28.36111    to the left,  improve=103.17440, (0 missing)\n",
      "      ProductRelated          < 22.5        to the right, improve= 84.52205, (0 missing)\n",
      "      VisitorType             splits as  RRL, improve= 80.36187, (0 missing)\n",
      "      ProductRelated_Duration < 1051.525    to the right, improve= 74.03792, (0 missing)\n",
      "  Surrogate splits:\n",
      "      ExitRates               < 0.01250891  to the right, agree=0.701, adj=0.328, (0 split)\n",
      "      PageValues              < 27.91728    to the left,  agree=0.678, adj=0.276, (0 split)\n",
      "      VisitorType             splits as  RRL, agree=0.675, adj=0.270, (0 split)\n",
      "      ProductRelated          < 25.5        to the right, agree=0.674, adj=0.267, (0 split)\n",
      "      ProductRelated_Duration < 1190.409    to the right, agree=0.668, adj=0.253, (0 split)\n",
      "\n",
      "Node number 6: 1480 observations,    complexity param=0.05922432\n",
      "  predicted class=FALSE  expected loss=0.4385135  P(node) =0.1200324\n",
      "    class counts:   831   649\n",
      "   probabilities: 0.561 0.439 \n",
      "  left son=12 (853 obs) right son=13 (627 obs)\n",
      "  Primary splits:\n",
      "      Month                   splits as  LLLLLRLRLL, improve=50.00321, (0 missing)\n",
      "      PageValues              < 12.07687    to the left,  improve=15.09749, (0 missing)\n",
      "      Administrative          < 1.5         to the right, improve=10.56979, (0 missing)\n",
      "      ExitRates               < 0.01905276  to the right, improve=10.14547, (0 missing)\n",
      "      ProductRelated_Duration < 1051.525    to the right, improve= 9.27882, (0 missing)\n",
      "  Surrogate splits:\n",
      "      ProductRelated_Duration < 4493.59     to the left,  agree=0.618, adj=0.097, (0 split)\n",
      "      ProductRelated          < 113.5       to the left,  agree=0.611, adj=0.081, (0 split)\n",
      "      TrafficType             < 7.5         to the left,  agree=0.589, adj=0.029, (0 split)\n",
      "      Informational           < 4.5         to the left,  agree=0.588, adj=0.027, (0 split)\n",
      "      BounceRates             < 0.002553056 to the right, agree=0.588, adj=0.027, (0 split)\n",
      "\n",
      "Node number 7: 1188 observations,    complexity param=0.01257862\n",
      "  predicted class=TRUE   expected loss=0.2651515  P(node) =0.09635036\n",
      "    class counts:   315   873\n",
      "   probabilities: 0.265 0.735 \n",
      "  left son=14 (507 obs) right son=15 (681 obs)\n",
      "  Primary splits:\n",
      "      PageValues              < 22.40927    to the left,  improve=45.78602, (0 missing)\n",
      "      Administrative          < 4.5         to the right, improve=42.63517, (0 missing)\n",
      "      ProductRelated          < 22.5        to the right, improve=32.25979, (0 missing)\n",
      "      Administrative_Duration < 12.71667    to the right, improve=29.62240, (0 missing)\n",
      "      VisitorType             splits as  RRL, improve=22.58643, (0 missing)\n",
      "  Surrogate splits:\n",
      "      ProductRelated          < 32.5        to the right, agree=0.632, adj=0.138, (0 split)\n",
      "      Administrative          < 5.5         to the right, agree=0.620, adj=0.110, (0 split)\n",
      "      ProductRelated_Duration < 1424.602    to the right, agree=0.617, adj=0.103, (0 split)\n",
      "      Informational           < 0.5         to the right, agree=0.599, adj=0.061, (0 split)\n",
      "      Informational_Duration  < 1.5         to the right, agree=0.594, adj=0.049, (0 split)\n",
      "\n",
      "Node number 12: 853 observations\n",
      "  predicted class=FALSE  expected loss=0.3270809  P(node) =0.06918086\n",
      "    class counts:   574   279\n",
      "   probabilities: 0.673 0.327 \n",
      "\n",
      "Node number 13: 627 observations\n",
      "  predicted class=TRUE   expected loss=0.4098884  P(node) =0.05085158\n",
      "    class counts:   257   370\n",
      "   probabilities: 0.410 0.590 \n",
      "\n",
      "Node number 14: 507 observations,    complexity param=0.01257862\n",
      "  predicted class=TRUE   expected loss=0.4260355  P(node) =0.04111922\n",
      "    class counts:   216   291\n",
      "   probabilities: 0.426 0.574 \n",
      "  left son=28 (200 obs) right son=29 (307 obs)\n",
      "  Primary splits:\n",
      "      Administrative          < 4.5         to the right, improve=24.85273, (0 missing)\n",
      "      ProductRelated          < 38.5        to the right, improve=20.14433, (0 missing)\n",
      "      Administrative_Duration < 12.71667    to the right, improve=14.49184, (0 missing)\n",
      "      VisitorType             splits as  RRL, improve=11.17253, (0 missing)\n",
      "      ProductRelated_Duration < 1431.375    to the right, improve=11.16534, (0 missing)\n",
      "  Surrogate splits:\n",
      "      Administrative_Duration < 76.7        to the right, agree=0.844, adj=0.605, (0 split)\n",
      "      ProductRelated          < 47.5        to the right, agree=0.694, adj=0.225, (0 split)\n",
      "      ProductRelated_Duration < 1673.928    to the right, agree=0.679, adj=0.185, (0 split)\n",
      "      Informational           < 1.5         to the right, agree=0.663, adj=0.145, (0 split)\n",
      "      Informational_Duration  < 41.6        to the right, agree=0.663, adj=0.145, (0 split)\n",
      "\n",
      "Node number 15: 681 observations\n",
      "  predicted class=TRUE   expected loss=0.1453744  P(node) =0.05523114\n",
      "    class counts:    99   582\n",
      "   probabilities: 0.145 0.855 \n",
      "\n",
      "Node number 28: 200 observations\n",
      "  predicted class=FALSE  expected loss=0.38  P(node) =0.0162206\n",
      "    class counts:   124    76\n",
      "   probabilities: 0.620 0.380 \n",
      "\n",
      "Node number 29: 307 observations\n",
      "  predicted class=TRUE   expected loss=0.2996743  P(node) =0.02489862\n",
      "    class counts:    92   215\n",
      "   probabilities: 0.300 0.700 \n",
      "\n"
     ]
    },
    {
     "data": {
      "image/png": "[encoded data removed]",
      "text/plain": [
       "plot without title"
      ]
     },
     "metadata": {},
     "output_type": "display_data"
    }
   ],
   "source": [
    "# DECISION TREE TO CHECK VARIABLE IMPORTANCE\n",
    "\n",
    "talltree <- rpart( Revenue ~ . , data = df, method = \"class\")\n",
    "\n",
    "# display the results\n",
    "printcp(talltree)\n",
    "\n",
    "plotcp(talltree)\n",
    "\n",
    "summary(talltree)"
   ]
  },
  {
   "cell_type": "markdown",
   "metadata": {},
   "source": [
    "#### DISTRIBUTION"
   ]
  },
  {
   "cell_type": "code",
   "execution_count": 37,
   "metadata": {},
   "outputs": [
    {
     "data": {
      "text/html": [
       "<ol class=list-inline>\n",
       "\t<li>'Administrative'</li>\n",
       "\t<li>'Administrative_Duration'</li>\n",
       "\t<li>'Informational'</li>\n",
       "\t<li>'Informational_Duration'</li>\n",
       "\t<li>'ProductRelated'</li>\n",
       "\t<li>'ProductRelated_Duration'</li>\n",
       "\t<li>'BounceRates'</li>\n",
       "\t<li>'ExitRates'</li>\n",
       "\t<li>'PageValues'</li>\n",
       "\t<li>'SpecialDay'</li>\n",
       "\t<li>'Month'</li>\n",
       "\t<li>'OperatingSystems'</li>\n",
       "\t<li>'Browser'</li>\n",
       "\t<li>'Region'</li>\n",
       "\t<li>'TrafficType'</li>\n",
       "\t<li>'VisitorType'</li>\n",
       "\t<li>'Weekend'</li>\n",
       "\t<li>'Revenue'</li>\n",
       "</ol>\n"
      ],
      "text/latex": [
       "\\begin{enumerate*}\n",
       "\\item 'Administrative'\n",
       "\\item 'Administrative\\_Duration'\n",
       "\\item 'Informational'\n",
       "\\item 'Informational\\_Duration'\n",
       "\\item 'ProductRelated'\n",
       "\\item 'ProductRelated\\_Duration'\n",
       "\\item 'BounceRates'\n",
       "\\item 'ExitRates'\n",
       "\\item 'PageValues'\n",
       "\\item 'SpecialDay'\n",
       "\\item 'Month'\n",
       "\\item 'OperatingSystems'\n",
       "\\item 'Browser'\n",
       "\\item 'Region'\n",
       "\\item 'TrafficType'\n",
       "\\item 'VisitorType'\n",
       "\\item 'Weekend'\n",
       "\\item 'Revenue'\n",
       "\\end{enumerate*}\n"
      ],
      "text/markdown": [
       "1. 'Administrative'\n",
       "2. 'Administrative_Duration'\n",
       "3. 'Informational'\n",
       "4. 'Informational_Duration'\n",
       "5. 'ProductRelated'\n",
       "6. 'ProductRelated_Duration'\n",
       "7. 'BounceRates'\n",
       "8. 'ExitRates'\n",
       "9. 'PageValues'\n",
       "10. 'SpecialDay'\n",
       "11. 'Month'\n",
       "12. 'OperatingSystems'\n",
       "13. 'Browser'\n",
       "14. 'Region'\n",
       "15. 'TrafficType'\n",
       "16. 'VisitorType'\n",
       "17. 'Weekend'\n",
       "18. 'Revenue'\n",
       "\n",
       "\n"
      ],
      "text/plain": [
       " [1] \"Administrative\"          \"Administrative_Duration\"\n",
       " [3] \"Informational\"           \"Informational_Duration\" \n",
       " [5] \"ProductRelated\"          \"ProductRelated_Duration\"\n",
       " [7] \"BounceRates\"             \"ExitRates\"              \n",
       " [9] \"PageValues\"              \"SpecialDay\"             \n",
       "[11] \"Month\"                   \"OperatingSystems\"       \n",
       "[13] \"Browser\"                 \"Region\"                 \n",
       "[15] \"TrafficType\"             \"VisitorType\"            \n",
       "[17] \"Weekend\"                 \"Revenue\"                "
      ]
     },
     "metadata": {},
     "output_type": "display_data"
    }
   ],
   "source": [
    "colnames(df)"
   ]
  },
  {
   "cell_type": "code",
   "execution_count": 38,
   "metadata": {},
   "outputs": [
    {
     "name": "stderr",
     "output_type": "stream",
     "text": [
      "`stat_bin()` using `bins = 30`. Pick better value with `binwidth`.\n",
      "Warning message:\n",
      "\"Removed 14 rows containing non-finite values (stat_bin).\"`stat_bin()` using `bins = 30`. Pick better value with `binwidth`.\n",
      "Warning message:\n",
      "\"Removed 14 rows containing non-finite values (stat_bin).\"`stat_bin()` using `bins = 30`. Pick better value with `binwidth`.\n",
      "Warning message:\n",
      "\"Removed 14 rows containing non-finite values (stat_bin).\"`stat_bin()` using `bins = 30`. Pick better value with `binwidth`.\n",
      "Warning message:\n",
      "\"Removed 14 rows containing non-finite values (stat_bin).\""
     ]
    },
    {
     "data": {
      "image/png": "[encoded data removed]",
      "text/plain": [
       "plot without title"
      ]
     },
     "metadata": {},
     "output_type": "display_data"
    }
   ],
   "source": [
    "# VARIABLE DISTRIBUTION PLOTS\n",
    "\n",
    "h1 <- ggplot(df, aes(x=Administrative, fill = Revenue)) + \n",
    "  geom_histogram(color=\"black\")+\n",
    "  theme(text = element_text(size=10) ,axis.text.x = element_text(size = 5),axis.text.y = element_text(size = 5))\n",
    "\n",
    "h2 <- ggplot(df, aes(x=Informational, fill = Revenue)) + \n",
    "  geom_histogram(color=\"black\")+\n",
    "  theme(text = element_text(size=10) ,axis.text.x = element_text(size = 5),axis.text.y = element_text(size = 5))\n",
    "\n",
    "h3 <- ggplot(df, aes(x=ProductRelated, fill = Revenue)) + \n",
    "  geom_histogram(color=\"black\")+\n",
    "  theme(text = element_text(size=10) ,axis.text.x = element_text(size = 5),axis.text.y = element_text(size = 5))\n",
    "\n",
    "h4 <- ggplot(df, aes(x=BounceRates, fill = Revenue)) + \n",
    "  geom_histogram(color=\"black\")+\n",
    "  theme(text = element_text(size=10) ,axis.text.x = element_text(size = 5),axis.text.y = element_text(size = 5))\n",
    "\n",
    "plot_grid(h1,h2,h3,h4)"
   ]
  },
  {
   "cell_type": "code",
   "execution_count": null,
   "metadata": {},
   "outputs": [],
   "source": [
    "# INDEPENDENT VARIABLE VS TARGET\n",
    "\n",
    "p1 <- ggplot(df, aes(x=Age, y=BounceRates, color=Clicked.on.Ad)) + geom_point(size=3)+\n",
    "  theme(text = element_text(size=10) ,axis.text.x = element_text(size = 5),axis.text.y = element_text(size = 5))\n",
    "\n",
    "p2 <- ggplot(df, aes(x=Daily.Time.Spent.on.Site, y=Daily.Internet.Usage, color=Clicked.on.Ad)) + geom_point(size=3)+\n",
    "  theme(text = element_text(size=10) ,axis.text.x = element_text(size = 5),axis.text.y = element_text(size = 5))\n",
    "\n",
    "p3 <- ggplot(df, aes(x=Age, y=Area.Income, color=Clicked.on.Ad)) + geom_point(size=3)+\n",
    "  theme(text = element_text(size=10) ,axis.text.x = element_text(size = 5),axis.text.y = element_text(size = 5))\n",
    "\n",
    "p4 <- ggplot(df, aes(x=Area.Income, y=Daily.Internet.Usage, color=Clicked.on.Ad)) + geom_point(size=3)+\n",
    "  theme(text = element_text(size=10) ,axis.text.x = element_text(size = 5),axis.text.y = element_text(size = 5))\n",
    "\n",
    "\n",
    "\n",
    "plot_grid(p1,p2,p3,p4)"
   ]
  },
  {
   "cell_type": "code",
   "execution_count": 40,
   "metadata": {},
   "outputs": [
    {
     "name": "stderr",
     "output_type": "stream",
     "text": [
      "Warning message:\n",
      "\"Removed 112 rows containing non-finite values (stat_boxplot).\""
     ]
    },
    {
     "data": {
      "image/png": "[encoded data removed]",
      "text/plain": [
       "plot without title"
      ]
     },
     "metadata": {},
     "output_type": "display_data"
    },
    {
     "data": {
      "image/png": "[encoded data removed]",
      "text/plain": [
       "plot without title"
      ]
     },
     "metadata": {},
     "output_type": "display_data"
    }
   ],
   "source": [
    "plot_boxplot(df, by= 'Weekend',  ncol = 3)"
   ]
  },
  {
   "cell_type": "markdown",
   "metadata": {},
   "source": [
    "#### CORRELATION"
   ]
  },
  {
   "cell_type": "code",
   "execution_count": 41,
   "metadata": {},
   "outputs": [
    {
     "data": {
      "image/png": "[encoded data removed]",
      "text/plain": [
       "plot without title"
      ]
     },
     "metadata": {},
     "output_type": "display_data"
    }
   ],
   "source": [
    "plot_correlation(df, cor_args = list( 'use' = 'complete.obs'))"
   ]
  },
  {
   "cell_type": "code",
   "execution_count": 43,
   "metadata": {},
   "outputs": [
    {
     "data": {
      "image/png": "[encoded data removed]",
      "text/plain": [
       "Plot with title \"\""
      ]
     },
     "metadata": {},
     "output_type": "display_data"
    }
   ],
   "source": [
    "corr <- cor(numeric_cols)\n",
    "corrplot(corr, type = 'lower')"
   ]
  },
  {
   "cell_type": "markdown",
   "metadata": {},
   "source": [
    "#### TARGET FEATURE ANALYSIS"
   ]
  },
  {
   "cell_type": "code",
   "execution_count": 44,
   "metadata": {},
   "outputs": [
    {
     "data": {
      "image/png": "[encoded data removed]",
      "text/plain": [
       "plot without title"
      ]
     },
     "metadata": {},
     "output_type": "display_data"
    }
   ],
   "source": [
    "#PLOTTING THE TARGET FEATURE\n",
    "options(repr.plot.width=5, repr.plot.height=5)\n",
    "\n",
    "ggplot(df, aes(x = Revenue)) + geom_bar(color='blue',fill = \"#FF6666\")"
   ]
  },
  {
   "cell_type": "code",
   "execution_count": 46,
   "metadata": {},
   "outputs": [
    {
     "data": {
      "image/png": "[encoded data removed]",
      "text/plain": [
       "plot without title"
      ]
     },
     "metadata": {},
     "output_type": "display_data"
    }
   ],
   "source": [
    "#PLOTTING THE TARGET FEATURE WITH THE NUMERIC FEATURES.\n",
    "ggplot(df, aes(x = Browser )) + geom_histogram(binwidth = 5, fill = \"#DD1111\")+ scale_fill_hue(l=40, c=35)"
   ]
  },
  {
   "cell_type": "code",
   "execution_count": null,
   "metadata": {},
   "outputs": [],
   "source": [
    "a = ggplot(df, aes(x=log(Daily.Internet.Usage),y=Area.Income)) + geom_point(color='blue')+ facet_wrap(~Clicked.on.Ad)\n",
    "\n",
    "b = ggplot(df, aes(x=log(Daily.Time.Spent.on.Site),y=Age)) + geom_point(color='blue')+ facet_wrap(~Clicked.on.Ad)\n",
    "\n",
    "c = ggplot(df, aes(x=log(Male),y=Area.Income)) + geom_point(color='blue')+ facet_wrap(~Clicked.on.Ad)\n",
    "\n",
    "plot_grid(a,b,c)"
   ]
  },
  {
   "cell_type": "code",
   "execution_count": null,
   "metadata": {},
   "outputs": [],
   "source": [
    "options(repr.plot.width=8, repr.plot.height=5)\n",
    "library(VIM)\n",
    "aggr_plot = aggr(df, col=c('navyblue','red'), numbers=TRUE, sortVars=TRUE,\n",
    "                 labels=names(df), cex.axis=.7, gap=1,\n",
    "                 ylab=c(\"Histogram of missing data\",\"Pattern\"))"
   ]
  },
  {
   "cell_type": "markdown",
   "metadata": {},
   "source": [
    "## Modelling"
   ]
  },
  {
   "cell_type": "markdown",
   "metadata": {},
   "source": [
    "#### I. Getting Dummies for Categorical columns"
   ]
  },
  {
   "cell_type": "code",
   "execution_count": null,
   "metadata": {},
   "outputs": [],
   "source": []
  },
  {
   "cell_type": "markdown",
   "metadata": {},
   "source": [
    "#### II. Splitting Data Target & Feature sets"
   ]
  },
  {
   "cell_type": "code",
   "execution_count": 10,
   "metadata": {},
   "outputs": [],
   "source": []
  },
  {
   "cell_type": "code",
   "execution_count": null,
   "metadata": {},
   "outputs": [],
   "source": []
  },
  {
   "cell_type": "code",
   "execution_count": null,
   "metadata": {},
   "outputs": [],
   "source": []
  },
  {
   "cell_type": "markdown",
   "metadata": {},
   "source": [
    "## Challenge the Solution"
   ]
  },
  {
   "cell_type": "code",
   "execution_count": null,
   "metadata": {},
   "outputs": [],
   "source": []
  },
  {
   "cell_type": "code",
   "execution_count": null,
   "metadata": {},
   "outputs": [],
   "source": []
  }
 ],
 "metadata": {
  "kernelspec": {
   "display_name": "R",
   "language": "R",
   "name": "ir"
  },
  "language_info": {
   "codemirror_mode": "r",
   "file_extension": ".r",
   "mimetype": "text/x-r-source",
   "name": "R",
   "pygments_lexer": "r",
   "version": "3.6.1"
  }
 },
 "nbformat": 4,
 "nbformat_minor": 4
}
